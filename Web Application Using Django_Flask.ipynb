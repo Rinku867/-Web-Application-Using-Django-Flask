{
 "cells": [
  {
   "cell_type": "code",
   "execution_count": null,
   "id": "a511b38a-d645-4a7a-a40e-ce6023c5c5a3",
   "metadata": {},
   "outputs": [],
   "source": [
    "from flask import Flask, render_template, request, redirect, url_for\n",
    "from flask_sqlalchemy import SQLAlchemy\n",
    "\n",
    "app = Flask(__name__)\n",
    "app.config['SQLALCHEMY_DATABASE_URI'] = 'sqlite:///employees.db'\n",
    "db = SQLAlchemy(app)\n",
    "\n",
    "class Employee(db.Model):\n",
    "    id = db.Column(db.Integer, primary_key=True)\n",
    "    name = db.Column(db.String(80), nullable=False)\n",
    "    position = db.Column(db.String(120), nullable=False)\n",
    "\n",
    "@app.route('/')\n",
    "def index():\n",
    "    employees = Employee.query.all()\n",
    "    return render_template('index.html', employees=employees)\n",
    "\n",
    "@app.route('/add', methods=['POST'])\n",
    "def add_employee():\n",
    "    name = request.form['name']\n",
    "    position = request.form['position']\n",
    "    new_employee = Employee(name=name, position=position)\n",
    "    db.session.add(new_employee)\n",
    "    db.session.commit()\n",
    "    return redirect(url_for('index'))\n"
   ]
  }
 ],
 "metadata": {
  "kernelspec": {
   "display_name": "Python 3 (ipykernel)",
   "language": "python",
   "name": "python3"
  },
  "language_info": {
   "codemirror_mode": {
    "name": "ipython",
    "version": 3
   },
   "file_extension": ".py",
   "mimetype": "text/x-python",
   "name": "python",
   "nbconvert_exporter": "python",
   "pygments_lexer": "ipython3",
   "version": "3.8.10"
  }
 },
 "nbformat": 4,
 "nbformat_minor": 5
}
